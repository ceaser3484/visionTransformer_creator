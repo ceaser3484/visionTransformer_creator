{
 "cells": [
  {
   "cell_type": "code",
   "execution_count": null,
   "id": "30b25a97-73a2-4a42-b636-63a5c1a29f90",
   "metadata": {},
   "outputs": [],
   "source": [
    "# Patch Embedding & Positional Embedding\n",
    "\n",
    "class PatchEmbed(nn.Module):\n",
    "    def __init__(self, img_size=224, patch_size=16, in_chans=3, embed_dim=768):\n",
    "        super().__init__()\n",
    "        assert img_size % patch_size == 0, # 이미지 사이즈가 나누어 떨어지는지 한번더 체크\n",
    "        self.img_size = img_size\n",
    "        self.patch_size = patch_size\n",
    "        self.grid_size = img_size // patch_size  \n",
    "        self.num_patches = self.grid_size * self.grid_size \n",
    "\n",
    "        # Conv2d를 활용하면 linear projection 과정까지 함께 할 수 있음\n",
    "        self.proj = nn.Conv2d(in_chans, embed_dim,\n",
    "                              kernel_size=patch_size, stride=patch_size)\n",
    "\n",
    "        # cls토큰이랑 위치 벡터 정의\n",
    "        self.cls_token = nn.Parameter(torch.zeros(1, 1, embed_dim))\n",
    "        self.pos_embed = nn.Parameter(torch.zeros(1, self.num_patches + 1, embed_dim)) \n",
    "        #self.num_patches + 1인 이유: cls 토큰 더 해줘서\n",
    "\n",
    "        \n",
    "        # cls 토큰이랑 위치 벡터 정규화로 초기와 해줌\n",
    "        nn.init.trunc_normal_(self.cls_token, std=0.02)\n",
    "        nn.init.trunc_normal_(self.pos_embed, std=0.02)\n",
    "\n",
    "    def forward(self, x):\n",
    "\n",
    "        \n",
    "        x = self.proj(x)\n",
    "        x = x.flatten(2).transpose(1, 2)\n",
    "\n",
    "        # CLS 토큰 붙이기\n",
    "        B = x.shape[0]\n",
    "        cls = self.cls_token.expand(B, -1, -1) \n",
    "        x = torch.cat([cls, x], dim=1)            \n",
    "\n",
    "        # 위치 임베딩 더하기\n",
    "        x = x + self.pos_embed        \n",
    "        return x  # tokens"
   ]
  }
 ],
 "metadata": {
  "kernelspec": {
   "display_name": "Python 3 (ipykernel)",
   "language": "python",
   "name": "python3"
  },
  "language_info": {
   "codemirror_mode": {
    "name": "ipython",
    "version": 3
   },
   "file_extension": ".py",
   "mimetype": "text/x-python",
   "name": "python",
   "nbconvert_exporter": "python",
   "pygments_lexer": "ipython3",
   "version": "3.13.5"
  }
 },
 "nbformat": 4,
 "nbformat_minor": 5
}
