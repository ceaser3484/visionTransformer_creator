{
 "cells": [
  {
   "cell_type": "code",
   "execution_count": 1,
   "id": "75c68020-a6e0-4172-a0ce-44f76cc967c2",
   "metadata": {},
   "outputs": [
    {
     "name": "stdout",
     "output_type": "stream",
     "text": [
      "DATA_ROOT: /home/user/flower_d\n"
     ]
    }
   ],
   "source": [
    "from pathlib import Path\n",
    "\n",
    "# 바탕화면/vit/flower_d\n",
    "DATA_ROOT = Path.home() / \"flower_d\"\n",
    "DATA_ROOT.mkdir(parents=True, exist_ok=True)\n",
    "\n",
    "print(\"DATA_ROOT:\", DATA_ROOT)"
   ]
  },
  {
   "cell_type": "code",
   "execution_count": 2,
   "id": "882e2b6c-3aff-431e-90f5-a419a3ae9be1",
   "metadata": {},
   "outputs": [
    {
     "name": "stderr",
     "output_type": "stream",
     "text": [
      "100%|██████████| 345M/345M [1:17:45<00:00, 73.9kB/s] \n",
      "100%|██████████| 502/502 [00:00<00:00, 294kB/s]\n",
      "100%|██████████| 15.0k/15.0k [00:00<00:00, 4.48MB/s]\n"
     ]
    },
    {
     "ename": "ModuleNotFoundError",
     "evalue": "No module named 'scipy'",
     "output_type": "error",
     "traceback": [
      "\u001b[31m---------------------------------------------------------------------------\u001b[39m",
      "\u001b[31mModuleNotFoundError\u001b[39m                       Traceback (most recent call last)",
      "\u001b[36mCell\u001b[39m\u001b[36m \u001b[39m\u001b[32mIn[2]\u001b[39m\u001b[32m, line 15\u001b[39m\n\u001b[32m      9\u001b[39m test_tf = transforms.Compose([\n\u001b[32m     10\u001b[39m     transforms.Resize((IMG_SIZE, IMG_SIZE)),\n\u001b[32m     11\u001b[39m     transforms.ToTensor(),\n\u001b[32m     12\u001b[39m ])\n\u001b[32m     14\u001b[39m \u001b[38;5;66;03m# 데이터 다운로드 및 로드\u001b[39;00m\n\u001b[32m---> \u001b[39m\u001b[32m15\u001b[39m train_raw = \u001b[43mdatasets\u001b[49m\u001b[43m.\u001b[49m\u001b[43mFlowers102\u001b[49m\u001b[43m(\u001b[49m\u001b[43mroot\u001b[49m\u001b[43m=\u001b[49m\u001b[38;5;28;43mstr\u001b[39;49m\u001b[43m(\u001b[49m\u001b[43mDATA_ROOT\u001b[49m\u001b[43m)\u001b[49m\u001b[43m,\u001b[49m\u001b[43m \u001b[49m\u001b[43msplit\u001b[49m\u001b[43m=\u001b[49m\u001b[33;43m'\u001b[39;49m\u001b[33;43mtrain\u001b[39;49m\u001b[33;43m'\u001b[39;49m\u001b[43m,\u001b[49m\u001b[43m \u001b[49m\u001b[43mtransform\u001b[49m\u001b[43m=\u001b[49m\u001b[43mtrain_tf\u001b[49m\u001b[43m,\u001b[49m\u001b[43m \u001b[49m\u001b[43mdownload\u001b[49m\u001b[43m=\u001b[49m\u001b[38;5;28;43;01mTrue\u001b[39;49;00m\u001b[43m)\u001b[49m\n\u001b[32m     16\u001b[39m val_raw   = datasets.Flowers102(root=\u001b[38;5;28mstr\u001b[39m(DATA_ROOT), split=\u001b[33m'\u001b[39m\u001b[33mval\u001b[39m\u001b[33m'\u001b[39m,   transform=train_tf, download=\u001b[38;5;28;01mTrue\u001b[39;00m)\n\u001b[32m     17\u001b[39m test_raw  = datasets.Flowers102(root=\u001b[38;5;28mstr\u001b[39m(DATA_ROOT), split=\u001b[33m'\u001b[39m\u001b[33mtest\u001b[39m\u001b[33m'\u001b[39m,  transform=test_tf,  download=\u001b[38;5;28;01mTrue\u001b[39;00m)\n",
      "\u001b[36mFile \u001b[39m\u001b[32m/opt/conda/lib/python3.11/site-packages/torchvision/datasets/flowers102.py:66\u001b[39m, in \u001b[36mFlowers102.__init__\u001b[39m\u001b[34m(self, root, split, transform, target_transform, download, loader)\u001b[39m\n\u001b[32m     63\u001b[39m \u001b[38;5;28;01mif\u001b[39;00m \u001b[38;5;129;01mnot\u001b[39;00m \u001b[38;5;28mself\u001b[39m._check_integrity():\n\u001b[32m     64\u001b[39m     \u001b[38;5;28;01mraise\u001b[39;00m \u001b[38;5;167;01mRuntimeError\u001b[39;00m(\u001b[33m\"\u001b[39m\u001b[33mDataset not found or corrupted. You can use download=True to download it\u001b[39m\u001b[33m\"\u001b[39m)\n\u001b[32m---> \u001b[39m\u001b[32m66\u001b[39m \u001b[38;5;28;01mfrom\u001b[39;00m\u001b[38;5;250m \u001b[39m\u001b[34;01mscipy\u001b[39;00m\u001b[34;01m.\u001b[39;00m\u001b[34;01mio\u001b[39;00m\u001b[38;5;250m \u001b[39m\u001b[38;5;28;01mimport\u001b[39;00m loadmat\n\u001b[32m     68\u001b[39m set_ids = loadmat(\u001b[38;5;28mself\u001b[39m._base_folder / \u001b[38;5;28mself\u001b[39m._file_dict[\u001b[33m\"\u001b[39m\u001b[33msetid\u001b[39m\u001b[33m\"\u001b[39m][\u001b[32m0\u001b[39m], squeeze_me=\u001b[38;5;28;01mTrue\u001b[39;00m)\n\u001b[32m     69\u001b[39m image_ids = set_ids[\u001b[38;5;28mself\u001b[39m._splits_map[\u001b[38;5;28mself\u001b[39m._split]].tolist()\n",
      "\u001b[31mModuleNotFoundError\u001b[39m: No module named 'scipy'"
     ]
    }
   ],
   "source": [
    "from torchvision import datasets, transforms\n",
    "\n",
    "IMG_SIZE = 224\n",
    "train_tf = transforms.Compose([\n",
    "    transforms.Resize((IMG_SIZE, IMG_SIZE)),\n",
    "    transforms.RandomHorizontalFlip(),\n",
    "    transforms.ToTensor(),\n",
    "])\n",
    "test_tf = transforms.Compose([\n",
    "    transforms.Resize((IMG_SIZE, IMG_SIZE)),\n",
    "    transforms.ToTensor(),\n",
    "])\n"
   ]
  },
  {
   "cell_type": "code",
   "execution_count": 11,
   "id": "5094b600-664d-4d88-93c4-9f692e45c55a",
   "metadata": {},
   "outputs": [],
   "source": [
    "import sys\n",
    "sys.path.append(\"/home/user/.local/lib/python3.11/site-packages\")"
   ]
  },
  {
   "cell_type": "code",
   "execution_count": 12,
   "id": "5393f5a9-cc34-4440-9892-0a40fcf94977",
   "metadata": {},
   "outputs": [
    {
     "name": "stdout",
     "output_type": "stream",
     "text": [
      "scipy 1.16.1\n"
     ]
    }
   ],
   "source": [
    "import scipy\n",
    "print(\"scipy\", scipy.__version__)"
   ]
  },
  {
   "cell_type": "code",
   "execution_count": 3,
   "id": "fdd97209-e508-412f-935e-cfce0f15864e",
   "metadata": {},
   "outputs": [
    {
     "name": "stdout",
     "output_type": "stream",
     "text": [
      "DATA_ROOT: /home/user/flower_d | exists: True\n"
     ]
    }
   ],
   "source": [
    "from pathlib import Path\n",
    "from torchvision import datasets, transforms\n",
    "from torch.utils.data import ConcatDataset, Subset, DataLoader\n",
    "import json, random, os\n",
    "\n",
    "DATA_ROOT = Path.home() /\"flower_d\"\n",
    "print(\"DATA_ROOT:\", DATA_ROOT, \"| exists:\", DATA_ROOT.exists())"
   ]
  },
  {
   "cell_type": "code",
   "execution_count": 6,
   "id": "c9be2dde-e9d6-4be0-8f39-a30144576be9",
   "metadata": {},
   "outputs": [],
   "source": [
    "IMG_SIZE = 224\n",
    "norm = transforms.Normalize([0.485,0.456,0.406],[0.229,0.224,0.225])\n",
    "\n",
    "train_tf = transforms.Compose([\n",
    "    transforms.Resize((IMG_SIZE, IMG_SIZE)),\n",
    "    transforms.RandomHorizontalFlip(),\n",
    "    transforms.ToTensor(),\n",
    "    norm,\n",
    "])\n",
    "test_tf = transforms.Compose([\n",
    "    transforms.Resize((IMG_SIZE, IMG_SIZE)),\n",
    "    transforms.ToTensor(),\n",
    "    norm,\n",
    "])\n"
   ]
  },
  {
   "cell_type": "code",
   "execution_count": 8,
   "id": "00d4b803-2ad5-441b-a84f-370d3f6a51df",
   "metadata": {},
   "outputs": [
    {
     "name": "stdout",
     "output_type": "stream",
     "text": [
      "sizes: 1020 1020 6149\n"
     ]
    }
   ],
   "source": [
    "train_raw = datasets.Flowers102(root=str(DATA_ROOT), split='train', transform=train_tf, download=False)\n",
    "val_raw   = datasets.Flowers102(root=str(DATA_ROOT), split='val',   transform=train_tf, download=False)\n",
    "test_raw  = datasets.Flowers102(root=str(DATA_ROOT), split='test',  transform=test_tf,  download=False)\n",
    "\n",
    "print(\"sizes:\", len(train_raw), len(val_raw), len(test_raw))"
   ]
  },
  {
   "cell_type": "code",
   "execution_count": 9,
   "id": "5c947120-b4de-4bb7-a8de-4c904d554e5d",
   "metadata": {},
   "outputs": [
    {
     "name": "stdout",
     "output_type": "stream",
     "text": [
      "train_full length: 2040\n",
      "test_2000 length: 2000\n",
      "split file saved at: /home/user/flower_d/custom_split_indices.json\n"
     ]
    }
   ],
   "source": [
    "from torch.utils.data import ConcatDataset, Subset\n",
    "import random, json\n",
    "\n",
    "# train + val 합치기\n",
    "train_full = ConcatDataset([train_raw, val_raw])\n",
    "print(\"train_full length:\", len(train_full))\n",
    "\n",
    "# test 2000개만 선택\n",
    "SEED = 42\n",
    "random.seed(SEED)\n",
    "idx = list(range(len(test_raw)))\n",
    "random.shuffle(idx)\n",
    "test_idx_2000 = idx[:2000]\n",
    "test_2000 = Subset(test_raw, test_idx_2000)\n",
    "print(\"test_2000 length:\", len(test_2000))\n",
    "\n",
    "# 인덱스 저장\n",
    "split_file = DATA_ROOT / \"custom_split_indices.json\"\n",
    "with open(split_file, \"w\") as f:\n",
    "    json.dump({\"seed\": SEED, \"test_indices\": test_idx_2000}, f)\n",
    "print(\"split file saved at:\", split_file)"
   ]
  },
  {
   "cell_type": "code",
   "execution_count": 10,
   "id": "0907c5e6-5242-4b19-a276-a58fbcb43536",
   "metadata": {},
   "outputs": [
    {
     "name": "stdout",
     "output_type": "stream",
     "text": [
      "train_full: 2040 | test_2000: 2000\n"
     ]
    }
   ],
   "source": [
    "SEED = 42\n",
    "random.seed(SEED)\n",
    "\n",
    "train_full = ConcatDataset([train_raw, val_raw])\n",
    "\n",
    "split_file = DATA_ROOT / \"custom_split_indices.json\"\n",
    "if split_file.exists():\n",
    "    with open(split_file) as f:\n",
    "        saved = json.load(f)\n",
    "    test_idx_2000 = saved[\"test_indices\"]\n",
    "else:\n",
    "    idx = list(range(len(test_raw)))\n",
    "    random.shuffle(idx)\n",
    "    test_idx_2000 = idx[:2000]\n",
    "    with open(split_file, \"w\") as f:\n",
    "        json.dump({\"seed\": SEED, \"test_indices\": test_idx_2000}, f)\n",
    "\n",
    "test_2000 = Subset(test_raw, test_idx_2000)\n",
    "print(\"train_full:\", len(train_full), \"| test_2000:\", len(test_2000))\n"
   ]
  },
  {
   "cell_type": "code",
   "execution_count": 21,
   "id": "53ee189d-569e-421d-b8ff-fa98acee6db1",
   "metadata": {},
   "outputs": [
    {
     "name": "stdout",
     "output_type": "stream",
     "text": [
      "batch: torch.Size([32, 3, 224, 224]) torch.Size([32])\n"
     ]
    }
   ],
   "source": [
    "\n",
    "import torch, gc\n",
    "torch.multiprocessing.set_sharing_strategy('file_system')\n",
    "\n",
    "BATCH_SIZE = 32    \n",
    "NUM_WORKERS = 0    \n",
    "PIN_MEMORY  = False\n",
    "PERSISTENT  = False\n",
    "PREFETCH    = None # \n",
    "\n",
    "\n",
    "gc.collect()\n",
    "if torch.cuda.is_available():\n",
    "    torch.cuda.empty_cache()\n",
    "\n",
    "from torch.utils.data import DataLoader\n",
    "\n",
    "train_loader = DataLoader(\n",
    "    train_full, batch_size=BATCH_SIZE, shuffle=True,\n",
    "    num_workers=NUM_WORKERS, pin_memory=PIN_MEMORY,\n",
    "    persistent_workers=PERSISTENT, prefetch_factor=PREFETCH\n",
    ")\n",
    "test_loader = DataLoader(\n",
    "    test_2000, batch_size=BATCH_SIZE, shuffle=False,\n",
    "    num_workers=NUM_WORKERS, pin_memory=PIN_MEMORY,\n",
    "    persistent_workers=PERSISTENT, prefetch_factor=PREFETCH\n",
    ")\n",
    "\n",
    "# 빠른 검증\n",
    "xb, yb = next(iter(train_loader))\n",
    "print(\"batch:\", xb.shape, yb.shape)\n",
    "\n"
   ]
  },
  {
   "cell_type": "code",
   "execution_count": 22,
   "id": "11a69f17-e444-45cb-a818-4b83623e53d1",
   "metadata": {},
   "outputs": [
    {
     "name": "stdout",
     "output_type": "stream",
     "text": [
      "device: cuda\n"
     ]
    }
   ],
   "source": [
    "import numpy as np\n",
    "import os\n",
    "from PIL import Image\n",
    "from tqdm import tqdm\n",
    "from copy import deepcopy\n",
    "import datetime\n",
    "\n",
    "import torch\n",
    "import torch.nn as nn\n",
    "import torch.nn.functional as F\n",
    "import torch.optim as optim\n",
    "\n",
    "\n",
    "from torchvision import datasets, transforms\n",
    "from torch.utils.data import dataloader\n",
    "\n",
    "device = torch.device(\"cuda\" if torch.cuda.is_available() else \"cpu\")\n",
    "print(\"device:\", device)\n",
    "\n",
    "NUM_CLASSES = 102\n"
   ]
  },
  {
   "cell_type": "code",
   "execution_count": 23,
   "id": "b31e7aae-e06a-4810-a575-e56849acc3dc",
   "metadata": {},
   "outputs": [],
   "source": [
    "class MultiheadSelfAttention(nn.Module):\n",
    "\n",
    "  def __init__(self, d_model: int, num_heads: int, dropout_rate: float=0.1):\n",
    "    super().__init__()\n",
    "    self.num_heads = num_heads # 헤드의 수를 num_heads에 저장\n",
    "    self.d_model = d_model # D차원을 d_model에 저장\n",
    "    self.head_dim = d_model // self.num_heads # d차원을 헤드의 수로 나누어서 각 헤드의 차원을 구함. 이를 위해 D차원은 num_heads로 나누어 떨어져야 함\n",
    "\n",
    "    self.query = nn.Linear(d_model, d_model) # 아래의 선형연산을 위한 선형레이어들\n",
    "    self.key = nn.Linear(d_model, d_model)\n",
    "    self.value = nn.Linear(d_model, d_model)\n",
    "\n",
    "    self.softmax = nn.Softmax(dim=-1)\n",
    "\n",
    "    self.dropout = nn.Dropout(p=dropout_rate)\n",
    "\n",
    "    self.WO = nn.Linear(d_model, d_model) # W^O차원\n",
    "\n",
    "  def forward(self, inputs_q, inputs_k=None, inputs_v=None, mask=None):\n",
    "\n",
    "    \"\"\"\n",
    "    입력 받는 텐선 inputs_q는 [batch_sizes..., length, features]의 형태로 배치 사이즈, 길이(N+1), D차원(768)으로 이루어져있음.\n",
    "    \"\"\"\n",
    "\n",
    "    if inputs_k is None:\n",
    "      inputs_k = inputs_q # K나 V에 해당하는 텐서를 받지 못하였을 때, Q텐서로 K, V텐서를 만들겠다는 의미로 같은 토큰에서 Q, K, V를 뽑아내는 것\n",
    "    if inputs_v is None:\n",
    "      inputs_v = inputs_k\n",
    "\n",
    "    batch, len, d_size = inputs_q.shape\n",
    "\n",
    "    Q = self.query(inputs_q)  # W^q의 역할로 입력된 토큰에 가중치를 부여하는 선형연산\n",
    "    K = self.key(inputs_k)    # W^k의 역할로 입력된 토큰에 가중치를 부여하는 선형연산\n",
    "    V = self.value(inputs_v)  # W^v의 역할로 입력된 토큰에 가중치를 부여하는 선형연산\n",
    "\n",
    "    Q = Q.view(batch, len, self.num_heads, self.head_dim)  # 텐서 Q에 대해서 마지막 차원에 대해 변환을 하여 [배치 사이즈, 길이, 헤드 수, 헤드 차원]으로 변환함\n",
    "    K = K.view(batch, len, self.num_heads, self.head_dim)  # 이유는 멀티 헤드 셀프 어텐션을 위해 헤드의 차원을 나누어서 헤드별로 어텐션이 될 수 있게 만듬\n",
    "    V = V.view(batch, len, self.num_heads, self.head_dim)\n",
    "\n",
    "    atten = torch.einsum(\"bqhd,bkhd->bhqk\", Q, K)\n",
    "    # Q와 K차원이 [배치사이즈, 길이, 헤드수, 헤드차원]으로 되어 있는데 이를 Q와 K^T의 내적을 배치와 헤드는 고정시켜두고\n",
    "    # q,d 와 k, d에 대해 d에 대해 내적하여 [배치사이즈, 헤드수, q길이, k길이] 형태로 만드는 것\n",
    "    # 이는 Q에 대한 K의 유사도가 됨\n",
    "    atten /= torch.sqrt(torch.tensor(self.head_dim))\n",
    "    # d_k 차원을 어텐션 스코어를 루트 d_k(헤드 차원)로 나누어 스케일 내적을 마무리\n",
    "\n",
    "    if mask is not None:\n",
    "      atten = torch.where(mask == 0, torch.tensor(-1e9).to(atten.device), atten)\n",
    "    # mask가 1 or 0인거에 따라서 0이면 -1e9(-10^9)을 넣어주고 아니면 원래 값을 넣어줌\n",
    "    # 이후 소프트맥스할 때 마스킹된 부분이 0언저리가 됨.\n",
    "\n",
    "    atten_weights = self.softmax(atten)\n",
    "    # 이후 어텐션 스코어에 소프트맥스를 해서 어텐션 분포를 얻음\n",
    "    atten_weights = self.dropout(atten_weights)\n",
    "\n",
    "    atten_output = torch.einsum(\"bhqk,bkhd->bqhd\", atten_weights, V)\n",
    "    # 이번에는 위에서 구한 [배치사이즈, 헤드수, q길이, k길이]형태의 어텐션 분포와 [배치 사이즈, k길이, 헤드 수, 헤드 차원]형태의 value 텐서를 곱하는데\n",
    "    # k길이에 대해 내적하여 [배치 사이즈, q길이, 헤드수, 헤드 차원] 형태로 만듬\n",
    "    # 이는 Q에 대한 K의 유사도에 맞추어 K에 대한 실제 값인 헤드 차원 부분이 내적되면서 벨류의 텐서에 어텐션 분포가 반영이 된다\n",
    "\n",
    "    atten_output = atten_output.reshape(batch, len, self.num_heads * self.head_dim)\n",
    "    # 다시 [배치사이즈, 길이, D차원] 형태로 변환함. 다시 합치는 Concat부분\n",
    "    output = self.WO(atten_output)\n",
    "    # 변환한 후 가중치 행렬 W^O를 취하기 위해서 학습 가능한 가중치를 레이어로 부여함\n",
    "\n",
    "    return output\n",
    "\n",
    "class FFNBlock(nn.Module):\n",
    "\n",
    "  \"\"\"\n",
    "  피드 포워드 네트워크를 위한 블록.\n",
    "  리니어 gelu 드롭아웃 리니어 드롭아웃의 형태로 원본의 순서를 따라함\n",
    "  ViT 논문에사 relu대신 gelu를 썼가에 재현하고자 함\n",
    "  \"\"\"\n",
    "\n",
    "  def __init__(self, d_model: int, mlp_dim: int, dropout_rate: float=0.1):\n",
    "    super().__init__()\n",
    "    self.d_model = d_model\n",
    "    self.mlp_dim = mlp_dim\n",
    "    self.linear1 = nn.Linear(d_model, mlp_dim)\n",
    "    self.linear2 = nn.Linear(mlp_dim, d_model)\n",
    "    self.gelu = nn.GELU()\n",
    "    self.dropout = nn.Dropout(p=dropout_rate)\n",
    "\n",
    "  def forward(self, x):\n",
    "    x = self.linear1(x)\n",
    "    x = self.gelu(x)\n",
    "    x = self.dropout(x)\n",
    "    x = self.linear2(x)\n",
    "    y = self.dropout(x)\n",
    "\n",
    "    return y\n",
    "\n",
    "class EncoderBlock(nn.Module):\n",
    "  \"\"\"\n",
    "    해야할 거: LN갈기고, MSA갈기고 skip-connection갈기기\n",
    "    논문의 순서대로 인풋을 레이어정규화 이후에 MSA하고 이후 나온 값을 다시 인풋과 더하는 스킵 커넥션을 함\n",
    "    이후 똑같이 정규화, 피드포워드, 스킵커넥션의 순서이다.\n",
    "  \"\"\"\n",
    "  def __init__(self, d_model: int, num_heads: int, mlp_dim: int, dropout_rate: float=0.1):\n",
    "    super().__init__()\n",
    "    self.num_heads = num_heads\n",
    "    self.d_model = d_model\n",
    "    self.mlp_dim = mlp_dim\n",
    "    self.LN = nn.LayerNorm(d_model)\n",
    "    self.LN2 = nn.LayerNorm(d_model)\n",
    "    self.MSA = MultiheadSelfAttention(d_model=d_model, num_heads=num_heads, dropout_rate=dropout_rate)\n",
    "    self.FFN = FFNBlock(d_model=d_model, mlp_dim=mlp_dim, dropout_rate=dropout_rate)\n",
    "    self.dropout = nn.Dropout(p=dropout_rate)\n",
    "\n",
    "\n",
    "\n",
    "  def forward(self, inputs):\n",
    "    z = self.LN(inputs) # LN(레이어 정규화)적용\n",
    "    z = self.MSA(z) # MSA(멀티헤드셀프어텐션)적용\n",
    "    z = self.dropout(z)\n",
    "    z = z + inputs # 스킵커넥션 적용\n",
    "\n",
    "    ffn = self.LN2(z) # LN적용\n",
    "    ffn = self.FFN(ffn) # FFN적용\n",
    "    # 이후 스킵커넥션을 적용한 값을 반환\n",
    "    return z+ffn\n",
    "\n",
    "class Encoder(nn.Module):\n",
    "\n",
    "  \"\"\"\n",
    "  해야할 거: 포지셔널 임베딩 한 거를 L개의 레이어에 넣기\n",
    "  L개의 레이어에 넣기 위해서는 L개의 모듀을 먼저 선언해야함\n",
    "  원본 논문의 코드는 flax.linen을 썼는데 가장 큰 차이점은 torch는 객체로 되어있어 객체가 __init__에서 선언되어\n",
    "  있어야 이후 forward가 작동 가능하고 linen은 함수로 되어 있어서 @nn.compact을 쓰고 __call__ 부분에 쓰고싶은 함수를 쓰면 되는 형식임\n",
    "  이걸 말한 이유는 원본에서는 그냥 for문을 썼는데 똑같이 하면 같은 블록(레이어)이 반복되며 나오는거라 L개의 디코더블록이 아니라\n",
    "  디코더 블록이 L번 학습을 진행하는 것임. 이걸 해결하기위해 nn.ModuleList를 써서 동적으로 묘듈을 할당해서 L개의 디코더블록을 만들 수 있음\n",
    "  \"\"\"\n",
    "  def __init__(self, d_model: int, num_layers: int, num_heads: int, mlp_dim: int, dropout_rate: float=0.1):\n",
    "    super().__init__()\n",
    "    self.num_layers = num_layers\n",
    "    self.num_heads = num_heads\n",
    "    self.d_model = d_model\n",
    "    self.mlp_dim = mlp_dim\n",
    "    self.LN = nn.LayerNorm(d_model)\n",
    "    self.layers = nn.ModuleList()\n",
    "    for i in range(num_layers):\n",
    "      self.layers.append(EncoderBlock(d_model=d_model, num_heads=num_heads, mlp_dim=mlp_dim, dropout_rate=dropout_rate))\n",
    "\n",
    "  def forward(self, x):\n",
    "    for layer in self.layers:\n",
    "      x = layer(x)\n",
    "    CLS = x[:, 0]\n",
    "    CLS = self.LN(CLS)\n",
    "    return CLS\n",
    "\n",
    "# Patch Embedding & Positional Embedding\n",
    "\n",
    "class PatchEmbed(nn.Module):\n",
    "    def __init__(self, img_size=224, patch_size=16, in_chans=3, embed_dim=768):\n",
    "        super().__init__()\n",
    "        assert img_size % patch_size == 0 # 이미지 사이즈가 나누어 떨어지는지 한번더 체크\n",
    "        self.img_size = img_size\n",
    "        self.patch_size = patch_size\n",
    "        self.grid_size = img_size // patch_size\n",
    "        self.num_patches = self.grid_size * self.grid_size\n",
    "\n",
    "        # Conv2d를 활용하면 linear projection 과정까지 함께 할 수 있음\n",
    "        self.proj = nn.Conv2d(in_chans, embed_dim,\n",
    "                              kernel_size=patch_size, stride=patch_size)\n",
    "\n",
    "        # cls토큰이랑 위치 벡터 정의\n",
    "        self.cls_token = nn.Parameter(torch.zeros(1, 1, embed_dim))\n",
    "        self.pos_embed = nn.Parameter(torch.zeros(1, self.num_patches + 1, embed_dim))\n",
    "        #self.num_patches + 1인 이유: cls 토큰 더 해줘서\n",
    "\n",
    "\n",
    "        # cls 토큰이랑 위치 벡터 정규화로 초기와 해줌\n",
    "        nn.init.trunc_normal_(self.cls_token, std=0.02)\n",
    "        nn.init.trunc_normal_(self.pos_embed, std=0.02)\n",
    "\n",
    "    def forward(self, x):\n",
    "\n",
    "\n",
    "        x = self.proj(x)\n",
    "        x = x.flatten(2).transpose(1, 2)\n",
    "\n",
    "        # CLS 토큰 붙이기\n",
    "        B = x.shape[0]\n",
    "        cls = self.cls_token.expand(B, -1, -1)\n",
    "        x = torch.cat([cls, x], dim=1)\n",
    "\n",
    "        # 위치 임베딩 더하기\n",
    "        x = x + self.pos_embed\n",
    "        return x  # tokens\n",
    "\n",
    "class MLPHead(nn.Module):\n",
    "    def __init__(self, in_dim, hid_dim, num_classes, drop=0.0, use_ln=True):\n",
    "        super().__init__()\n",
    "        self.pre = nn.LayerNorm(in_dim) if use_ln else nn.Identity()\n",
    "        self.fc1 = nn.Linear(in_dim, hid_dim)\n",
    "        self.act = nn.Tanh()            # 논문에서 종종 쓰던 Tanh representation\n",
    "        self.drop = nn.Dropout(drop)\n",
    "        self.fc2 = nn.Linear(hid_dim, num_classes)\n",
    "\n",
    "    def forward(self, x):                # x: [CLS] (B, D)\n",
    "        x = self.pre(x)\n",
    "        x = self.fc1(x)\n",
    "        x = self.act(x)\n",
    "        x = self.drop(x)\n",
    "        x = self.fc2(x)\n",
    "        return x\n",
    "\n",
    "class ViTClassifier(nn.Module):\n",
    "    def __init__(self, img_size=224, patch_size=16, in_chans=3,\n",
    "                 embed_dim=768, depth=12, num_heads=12, mlp_ratio=4.0,\n",
    "                 num_classes=1000, attn_drop=0.0, drop=0.0, mlp_dim=3072):\n",
    "        super().__init__()\n",
    "        self.patch_embed = PatchEmbed(img_size, patch_size, in_chans, embed_dim)\n",
    "        self.encoder     = Encoder(embed_dim, depth, num_heads, mlp_dim, dropout_rate=drop)\n",
    "        self.head        = MLPHead(in_dim=embed_dim, hid_dim=embed_dim,\n",
    "                                   num_classes=num_classes, drop=0.1)\n",
    "\n",
    "    def forward(self, x):             # x: (B, 3, H, W)\n",
    "        seq = self.patch_embed(x)     # -> (B, N+1, D)  (보통)\n",
    "        seq = self.encoder(seq)       # -> (B, N+1, D) 또는 (B, D)\n",
    "\n",
    "   \n",
    "        if seq.dim() == 3:            # (B, N+1, D)\n",
    "            cls = seq[:, 0]           # (B, D)  CLS 토큰\n",
    "        elif seq.dim() == 2:          # (B, D)\n",
    "            cls = seq\n",
    "        else:\n",
    "            raise RuntimeError(f\"Unexpected shape from encoder: {seq.shape}\")\n",
    "\n",
    "        logits = self.head(cls)       # (B, num_classes)\n",
    "        return logits"
   ]
  },
  {
   "cell_type": "code",
   "execution_count": 24,
   "id": "0ede0787-b20a-4f7c-a4d7-2cc607d31f03",
   "metadata": {},
   "outputs": [],
   "source": [
    "model=ViTClassifier(img_size=224, num_classes=NUM_CLASSES, drop=0.1).to(device)"
   ]
  },
  {
   "cell_type": "code",
   "execution_count": 25,
   "id": "7d817d32-d1d7-4359-b95e-f8d87136d7f8",
   "metadata": {},
   "outputs": [
    {
     "name": "stderr",
     "output_type": "stream",
     "text": [
      "/tmp/ipykernel_7129/1222554675.py:7: FutureWarning: `torch.cuda.amp.GradScaler(args...)` is deprecated. Please use `torch.amp.GradScaler('cuda', args...)` instead.\n",
      "  scaler = GradScaler(enabled=(device.type == \"cuda\"))\n"
     ]
    },
    {
     "data": {
      "application/vnd.jupyter.widget-view+json": {
       "model_id": "96eb601578c04fd28d7a65f44b42f738",
       "version_major": 2,
       "version_minor": 0
      },
      "text/plain": [
       "Epoch 1:   0%|          | 0/64 [00:00<?, ?it/s]"
      ]
     },
     "metadata": {},
     "output_type": "display_data"
    },
    {
     "name": "stderr",
     "output_type": "stream",
     "text": [
      "/tmp/ipykernel_7129/1222554675.py:39: FutureWarning: `torch.cuda.amp.autocast(args...)` is deprecated. Please use `torch.amp.autocast('cuda', args...)` instead.\n",
      "  with autocast(enabled=(device.type == \"cuda\")):\n"
     ]
    },
    {
     "name": "stdout",
     "output_type": "stream",
     "text": [
      "[1] val_loss=4.0125, val_acc=7.30%\n",
      ">> Best model updated (val_acc=7.30%), saved to vit_best.pth\n"
     ]
    },
    {
     "data": {
      "application/vnd.jupyter.widget-view+json": {
       "model_id": "05f49f97b1d1465685a67615c2eab5ac",
       "version_major": 2,
       "version_minor": 0
      },
      "text/plain": [
       "Epoch 2:   0%|          | 0/64 [00:00<?, ?it/s]"
      ]
     },
     "metadata": {},
     "output_type": "display_data"
    },
    {
     "name": "stdout",
     "output_type": "stream",
     "text": [
      "[2] val_loss=3.6484, val_acc=11.25%\n",
      ">> Best model updated (val_acc=11.25%), saved to vit_best.pth\n"
     ]
    },
    {
     "data": {
      "application/vnd.jupyter.widget-view+json": {
       "model_id": "95a4dd4bd238490ea8912bde100a1ffa",
       "version_major": 2,
       "version_minor": 0
      },
      "text/plain": [
       "Epoch 3:   0%|          | 0/64 [00:00<?, ?it/s]"
      ]
     },
     "metadata": {},
     "output_type": "display_data"
    },
    {
     "name": "stdout",
     "output_type": "stream",
     "text": [
      "[3] val_loss=3.5505, val_acc=12.50%\n",
      ">> Best model updated (val_acc=12.50%), saved to vit_best.pth\n"
     ]
    },
    {
     "data": {
      "application/vnd.jupyter.widget-view+json": {
       "model_id": "9ad9847d95c24e0880c157b4aba0fc6e",
       "version_major": 2,
       "version_minor": 0
      },
      "text/plain": [
       "Epoch 4:   0%|          | 0/64 [00:00<?, ?it/s]"
      ]
     },
     "metadata": {},
     "output_type": "display_data"
    },
    {
     "name": "stdout",
     "output_type": "stream",
     "text": [
      "[4] val_loss=3.4358, val_acc=14.10%\n",
      ">> Best model updated (val_acc=14.10%), saved to vit_best.pth\n"
     ]
    },
    {
     "data": {
      "application/vnd.jupyter.widget-view+json": {
       "model_id": "64b63149f5134fbf944e92d4b73ca3f6",
       "version_major": 2,
       "version_minor": 0
      },
      "text/plain": [
       "Epoch 5:   0%|          | 0/64 [00:00<?, ?it/s]"
      ]
     },
     "metadata": {},
     "output_type": "display_data"
    },
    {
     "name": "stdout",
     "output_type": "stream",
     "text": [
      "[5] val_loss=3.2395, val_acc=19.90%\n",
      ">> Best model updated (val_acc=19.90%), saved to vit_best.pth\n"
     ]
    }
   ],
   "source": [
    "from torch.optim import AdamW\n",
    "from torch.cuda.amp import autocast, GradScaler\n",
    "from tqdm.auto import tqdm\n",
    "\n",
    "criterion = nn.CrossEntropyLoss()\n",
    "optimizer = AdamW(model.parameters(), lr=3e-4, weight_decay=1e-4)\n",
    "scaler = GradScaler(enabled=(device.type == \"cuda\"))\n",
    "\n",
    "def evaluate(model, loader):\n",
    "    model.eval()\n",
    "    correct = total = 0\n",
    "    loss_sum = 0.0\n",
    "    with torch.no_grad():\n",
    "        for x, y in loader:\n",
    "            x, y = x.to(device), y.to(device)\n",
    "            logits = model(x)\n",
    "            loss = criterion(logits, y)\n",
    "            loss_sum += loss.item() * y.size(0)\n",
    "            pred = logits.argmax(1)\n",
    "            correct += (pred == y).sum().item()\n",
    "            total += y.size(0)\n",
    "    return loss_sum/total, correct/total\n",
    "\n",
    "\n",
    "EPOCHS = 5\n",
    "best_acc = 0.0  \n",
    "best_path = \"vit_best.pth\"\n",
    "\n",
    "for ep in range(1, EPOCHS+1):\n",
    "    model.train()\n",
    "    running = 0.0\n",
    "    pbar = tqdm(train_loader, desc=f\"Epoch {ep}\")\n",
    "    for x, y in pbar:\n",
    "        x, y = x.to(device), y.to(device)\n",
    "\n",
    "        optimizer.zero_grad(set_to_none=True)\n",
    "        with autocast(enabled=(device.type == \"cuda\")):\n",
    "            logits = model(x)\n",
    "            loss = criterion(logits, y)\n",
    "        scaler.scale(loss).backward()\n",
    "        scaler.step(optimizer)\n",
    "        scaler.update()\n",
    "\n",
    "        running += loss.item() * y.size(0)\n",
    "        pbar.set_postfix(loss=running/len(train_loader.dataset))\n",
    "\n",
    "    val_loss, val_acc = evaluate(model, test_loader)\n",
    "    print(f\"[{ep}] val_loss={val_loss:.4f}, val_acc={val_acc*100:.2f}%\")\n",
    "\n",
    "  \n",
    "    if val_acc > best_acc:\n",
    "        best_acc = val_acc\n",
    "        torch.save(model.state_dict(), best_path)\n",
    "        print(f\">> Best model updated (val_acc={val_acc*100:.2f}%), saved to {best_path}\")\n"
   ]
  },
  {
   "cell_type": "code",
   "execution_count": 27,
   "id": "c3975aa7-99d2-4319-8fbd-4243a181a350",
   "metadata": {},
   "outputs": [
    {
     "name": "stdout",
     "output_type": "stream",
     "text": [
      "/opt/conda/bin/python3.11\n",
      "Defaulting to user installation because normal site-packages is not writeable\n",
      "Requirement already satisfied: pip in ./.local/lib/python3.11/site-packages (25.2)\n",
      "Requirement already satisfied: setuptools in ./.local/lib/python3.11/site-packages (80.9.0)\n",
      "Requirement already satisfied: wheel in /opt/conda/lib/python3.11/site-packages (0.45.1)\n",
      "Defaulting to user installation because normal site-packages is not writeable\n",
      "Collecting scikit-learn\n",
      "  Downloading scikit_learn-1.7.1-cp311-cp311-manylinux2014_x86_64.manylinux_2_17_x86_64.whl.metadata (11 kB)\n",
      "Requirement already satisfied: numpy>=1.22.0 in /opt/conda/lib/python3.11/site-packages (from scikit-learn) (2.3.2)\n",
      "Requirement already satisfied: scipy>=1.8.0 in ./.local/lib/python3.11/site-packages (from scikit-learn) (1.16.1)\n",
      "Collecting joblib>=1.2.0 (from scikit-learn)\n",
      "  Downloading joblib-1.5.1-py3-none-any.whl.metadata (5.6 kB)\n",
      "Collecting threadpoolctl>=3.1.0 (from scikit-learn)\n",
      "  Downloading threadpoolctl-3.6.0-py3-none-any.whl.metadata (13 kB)\n",
      "Downloading scikit_learn-1.7.1-cp311-cp311-manylinux2014_x86_64.manylinux_2_17_x86_64.whl (9.7 MB)\n",
      "\u001b[2K   \u001b[90m━━━━━━━━━━━━━━━━━━━━━━━━━━━━━━━━━━━━━━━━\u001b[0m \u001b[32m9.7/9.7 MB\u001b[0m \u001b[31m2.7 MB/s\u001b[0m  \u001b[33m0:00:03\u001b[0m eta \u001b[36m0:00:01\u001b[0mm\n",
      "\u001b[?25hDownloading joblib-1.5.1-py3-none-any.whl (307 kB)\n",
      "Downloading threadpoolctl-3.6.0-py3-none-any.whl (18 kB)\n",
      "Installing collected packages: threadpoolctl, joblib, scikit-learn\n",
      "\u001b[2K   \u001b[90m━━━━━━━━━━━━━━━━━━━━━━━━━━━━━━━━━━━━━━━━\u001b[0m \u001b[32m3/3\u001b[0m [scikit-learn][0m [scikit-learn]\n",
      "\u001b[1A\u001b[2KSuccessfully installed joblib-1.5.1 scikit-learn-1.7.1 threadpoolctl-3.6.0\n"
     ]
    }
   ],
   "source": [
    "import sys\n",
    "print(sys.executable)  # 지금 커널이 쓰는 파이썬 확인\n",
    "\n",
    "!{sys.executable} -m pip install -U pip setuptools wheel\n",
    "!{sys.executable} -m pip install scikit-learn"
   ]
  },
  {
   "cell_type": "code",
   "execution_count": 29,
   "id": "3d4e4e99-2ad4-47dd-bb22-7839696dafe5",
   "metadata": {},
   "outputs": [
    {
     "name": "stdout",
     "output_type": "stream",
     "text": [
      "<class 'torch.Tensor'> torch.Size([32, 3, 224, 224])\n",
      "<class 'torch.Tensor'> torch.Size([32]) tensor([17, 50, 73, 76, 17])\n"
     ]
    }
   ],
   "source": [
    "xb, yb = next(iter(test_loader))\n",
    "print(type(xb), getattr(xb, \"shape\", None))\n",
    "print(type(yb), getattr(yb, \"shape\", None), yb[:5] if hasattr(yb, \"__getitem__\") else yb)\n",
    "\n"
   ]
  },
  {
   "cell_type": "code",
   "execution_count": 30,
   "id": "860a30d7-330e-424f-86ef-6336a7a29811",
   "metadata": {},
   "outputs": [
    {
     "name": "stdout",
     "output_type": "stream",
     "text": [
      "shapes: (2000, 102) (2000, 102) (2000,) (2000,)\n"
     ]
    }
   ],
   "source": [
    "import torch\n",
    "import numpy as np\n",
    "\n",
    "def gather_predictions(model, loader, device, fallback_labels=None):\n",
    "    model.eval()\n",
    "    all_logits, all_probs, all_preds, all_labels = [], [], [], []\n",
    "    softmax = torch.nn.Softmax(dim=1)\n",
    "\n",
    "    with torch.no_grad():\n",
    "        for batch in loader:\n",
    "            # 배치가 (x, y) or {\"pixel_values\": x, \"labels\": y} 등 어떤 타입이든 처리\n",
    "            if isinstance(batch, (list, tuple)) and len(batch) == 2:\n",
    "                xb, yb = batch\n",
    "            elif isinstance(batch, dict):\n",
    "                xb, yb = batch.get(\"pixel_values\") or batch.get(\"input\"), batch.get(\"labels\")\n",
    "            else:\n",
    "                # 라벨이 안 나오는 로더라면 xb만 있을 수 있음\n",
    "                xb, yb = batch, None\n",
    "\n",
    "            xb = xb.to(device, non_blocking=True)\n",
    "            logits = model(xb)\n",
    "            probs = softmax(logits)\n",
    "            preds = torch.argmax(probs, dim=1)\n",
    "\n",
    "            all_logits.append(logits.cpu())\n",
    "            all_probs.append(probs.cpu())\n",
    "            all_preds.append(preds.cpu())\n",
    "\n",
    "            if yb is not None:\n",
    "                all_labels.append(yb.cpu())\n",
    "\n",
    "    all_logits = torch.cat(all_logits).numpy()\n",
    "    all_probs  = torch.cat(all_probs).numpy()\n",
    "    all_preds  = torch.cat(all_preds).numpy()\n",
    "\n",
    "    if len(all_labels) > 0:\n",
    "        all_labels = torch.cat(all_labels).numpy()\n",
    "    else:\n",
    "        # 배치에 라벨이 전혀 없으면, 데이터셋에서 뽑아온 fallback 사용\n",
    "        if fallback_labels is None:\n",
    "            # 자동으로 test_loader.dataset에서 시도\n",
    "            fallback_labels = extract_labels_from_dataset(loader.dataset)\n",
    "        all_labels = fallback_labels\n",
    "\n",
    "    return all_logits, all_probs, all_preds, all_labels\n",
    "\n",
    "# 사용 예시\n",
    "logits, probs, y_pred, y_true = gather_predictions(model, test_loader, device)\n",
    "print(\"shapes:\", logits.shape, probs.shape, y_pred.shape, y_true.shape)\n",
    "\n"
   ]
  },
  {
   "cell_type": "code",
   "execution_count": 32,
   "id": "aec16d68-3a17-47d5-9b34-d6573043b2d0",
   "metadata": {},
   "outputs": [
    {
     "name": "stdout",
     "output_type": "stream",
     "text": [
      "sanity: torch.Size([32, 102])\n"
     ]
    }
   ],
   "source": [
    "import torch\n",
    "from torch import nn\n",
    "\n",
    "NUM_CLASSES = 102\n",
    "\n",
    "\n",
    "model = ViTClassifier(\n",
    "    img_size=224, patch_size=16, in_chans=3,\n",
    "    embed_dim=768, depth=12, num_heads=12, mlp_ratio=4.0,\n",
    "    num_classes=NUM_CLASSES, mlp_dim=3072, drop=0.1\n",
    ").to(device)\n",
    "\n",
    "state = torch.load(\"vit_best.pth\", map_location=device)\n",
    "model.load_state_dict(state, strict=True)\n",
    "model.eval()\n",
    "\n",
    "# 빠른 모양 확인\n",
    "xb, yb = next(iter(test_loader))\n",
    "with torch.no_grad():\n",
    "    out = model(xb.to(device))\n",
    "print(\"sanity:\", out.shape)  # (B, 102) 기대"
   ]
  },
  {
   "cell_type": "code",
   "execution_count": 33,
   "id": "e556dc86-59fa-4976-9e17-43f0b729965a",
   "metadata": {},
   "outputs": [
    {
     "name": "stdout",
     "output_type": "stream",
     "text": [
      "shapes: (2000, 102) (2000, 102) (2000,) (2000,)\n"
     ]
    }
   ],
   "source": [
    "import numpy as np\n",
    "\n",
    "@torch.no_grad()\n",
    "def gather_predictions(model, loader, device):\n",
    "    model.eval()\n",
    "    softmax = nn.Softmax(dim=1)\n",
    "    all_logits, all_probs, all_preds, all_labels = [], [], [], []\n",
    "\n",
    "    for batch in loader:\n",
    "        if isinstance(batch, (list, tuple)) and len(batch) == 2:\n",
    "            xb, yb = batch\n",
    "        elif isinstance(batch, dict):\n",
    "            xb, yb = batch.get(\"pixel_values\") or batch.get(\"input\"), batch.get(\"labels\")\n",
    "        else:\n",
    "            xb, yb = batch, None  # 라벨 없는 로더 방어\n",
    "\n",
    "        xb = xb.to(device, non_blocking=True)\n",
    "        logits = model(xb)\n",
    "        probs = softmax(logits)\n",
    "        preds = probs.argmax(1)\n",
    "\n",
    "        all_logits.append(logits.cpu())\n",
    "        all_probs.append(probs.cpu())\n",
    "        all_preds.append(preds.cpu())\n",
    "        if yb is not None:\n",
    "            all_labels.append(yb.cpu())\n",
    "\n",
    "    all_logits = torch.cat(all_logits).numpy()\n",
    "    all_probs  = torch.cat(all_probs).numpy()\n",
    "    all_preds  = torch.cat(all_preds).numpy()\n",
    "    if len(all_labels):\n",
    "        all_labels = torch.cat(all_labels).numpy()\n",
    "    else:\n",
    "        # 라벨이 로더에서 안 나오는 경우 대비 (Flowers102는 보통 안 그럼)\n",
    "        from torch.utils.data import Subset\n",
    "        ds = loader.dataset\n",
    "        base, idxs = (ds.dataset, ds.indices) if isinstance(ds, Subset) else (ds, range(len(ds)))\n",
    "        if hasattr(base, \"_labels\"):\n",
    "            all_labels = np.array([int(base._labels[i]) for i in idxs])\n",
    "        elif hasattr(base, \"targets\"):\n",
    "            all_labels = np.array([int(base.targets[i]) for i in idxs])\n",
    "        else:\n",
    "            raise RuntimeError(\"라벨을 찾을 수 없어요 (dataset._labels/targets 없음).\")\n",
    "    return all_logits, all_probs, all_preds, all_labels\n",
    "\n",
    "logits, probs, y_pred, y_true = gather_predictions(model, test_loader, device)\n",
    "print(\"shapes:\", logits.shape, probs.shape, y_pred.shape, y_true.shape)\n"
   ]
  },
  {
   "cell_type": "code",
   "execution_count": 35,
   "id": "cc5b1e77-f91c-4205-ac4a-9baa31fb6bc0",
   "metadata": {},
   "outputs": [
    {
     "name": "stdout",
     "output_type": "stream",
     "text": [
      "Defaulting to user installation because normal site-packages is not writeable\n",
      "Collecting matplotlib\n",
      "  Downloading matplotlib-3.10.5-cp311-cp311-manylinux2014_x86_64.manylinux_2_17_x86_64.whl.metadata (11 kB)\n",
      "Collecting contourpy>=1.0.1 (from matplotlib)\n",
      "  Downloading contourpy-1.3.3-cp311-cp311-manylinux_2_27_x86_64.manylinux_2_28_x86_64.whl.metadata (5.5 kB)\n",
      "Collecting cycler>=0.10 (from matplotlib)\n",
      "  Downloading cycler-0.12.1-py3-none-any.whl.metadata (3.8 kB)\n",
      "Collecting fonttools>=4.22.0 (from matplotlib)\n",
      "  Downloading fonttools-4.59.1-cp311-cp311-manylinux2014_x86_64.manylinux_2_17_x86_64.whl.metadata (108 kB)\n",
      "Collecting kiwisolver>=1.3.1 (from matplotlib)\n",
      "  Downloading kiwisolver-1.4.9-cp311-cp311-manylinux2014_x86_64.manylinux_2_17_x86_64.whl.metadata (6.3 kB)\n",
      "Requirement already satisfied: numpy>=1.23 in /opt/conda/lib/python3.11/site-packages (from matplotlib) (2.3.2)\n",
      "Requirement already satisfied: packaging>=20.0 in /opt/conda/lib/python3.11/site-packages (from matplotlib) (25.0)\n",
      "Requirement already satisfied: pillow>=8 in /opt/conda/lib/python3.11/site-packages (from matplotlib) (11.0.0)\n",
      "Collecting pyparsing>=2.3.1 (from matplotlib)\n",
      "  Downloading pyparsing-3.2.3-py3-none-any.whl.metadata (5.0 kB)\n",
      "Requirement already satisfied: python-dateutil>=2.7 in /opt/conda/lib/python3.11/site-packages (from matplotlib) (2.9.0.post0)\n",
      "Requirement already satisfied: six>=1.5 in /opt/conda/lib/python3.11/site-packages (from python-dateutil>=2.7->matplotlib) (1.17.0)\n",
      "Downloading matplotlib-3.10.5-cp311-cp311-manylinux2014_x86_64.manylinux_2_17_x86_64.whl (8.7 MB)\n",
      "\u001b[2K   \u001b[90m━━━━━━━━━━━━━━━━━━━━━━━━━━━━━━━━━━━━━━━━\u001b[0m \u001b[32m8.7/8.7 MB\u001b[0m \u001b[31m1.6 MB/s\u001b[0m  \u001b[33m0:00:05\u001b[0m eta \u001b[36m0:00:01\u001b[0m\n",
      "\u001b[?25hDownloading contourpy-1.3.3-cp311-cp311-manylinux_2_27_x86_64.manylinux_2_28_x86_64.whl (355 kB)\n",
      "Downloading cycler-0.12.1-py3-none-any.whl (8.3 kB)\n",
      "Downloading fonttools-4.59.1-cp311-cp311-manylinux2014_x86_64.manylinux_2_17_x86_64.whl (5.0 MB)\n",
      "\u001b[2K   \u001b[90m━━━━━━━━━━━━━━━━━━━━━━━━━━━━━━━━━━━━━━━━\u001b[0m \u001b[32m5.0/5.0 MB\u001b[0m \u001b[31m1.6 MB/s\u001b[0m  \u001b[33m0:00:03\u001b[0m eta \u001b[36m0:00:01\u001b[0m\n",
      "\u001b[?25hDownloading kiwisolver-1.4.9-cp311-cp311-manylinux2014_x86_64.manylinux_2_17_x86_64.whl (1.4 MB)\n",
      "\u001b[2K   \u001b[90m━━━━━━━━━━━━━━━━━━━━━━━━━━━━━━━━━━━━━━━━\u001b[0m \u001b[32m1.4/1.4 MB\u001b[0m \u001b[31m1.6 MB/s\u001b[0m  \u001b[33m0:00:00\u001b[0m eta \u001b[36m0:00:01\u001b[0m\n",
      "\u001b[?25hDownloading pyparsing-3.2.3-py3-none-any.whl (111 kB)\n",
      "Installing collected packages: pyparsing, kiwisolver, fonttools, cycler, contourpy, matplotlib\n",
      "\u001b[2K   \u001b[91m━━━━━━━━━━━━━\u001b[0m\u001b[90m╺\u001b[0m\u001b[90m━━━━━━━━━━━━━━━━━━━━━━━━━━\u001b[0m \u001b[32m2/6\u001b[0m [fonttools]\u001b[33m  WARNING: The scripts fonttools, pyftmerge, pyftsubset and ttx are installed in '/home/user/.local/bin' which is not on PATH.\n",
      "  Consider adding this directory to PATH or, if you prefer to suppress this warning, use --no-warn-script-location.\u001b[0m\u001b[33m\n",
      "\u001b[2K   \u001b[90m━━━━━━━━━━━━━━━━━━━━━━━━━━━━━━━━━━━━━━━━\u001b[0m \u001b[32m6/6\u001b[0m [matplotlib]6\u001b[0m [matplotlib]\n",
      "\u001b[1A\u001b[2KSuccessfully installed contourpy-1.3.3 cycler-0.12.1 fonttools-4.59.1 kiwisolver-1.4.9 matplotlib-3.10.5 pyparsing-3.2.3\n"
     ]
    }
   ],
   "source": [
    "import sys\n",
    "!{sys.executable} -m pip install matplotlib"
   ]
  },
  {
   "cell_type": "code",
   "execution_count": 47,
   "id": "ef643fa0-d889-4efd-b3b3-382bbd1583c9",
   "metadata": {},
   "outputs": [
    {
     "data": {
      "image/png": "[encoded data removed]",
      "text/plain": [
       "<Figure size 600x600 with 2 Axes>"
      ]
     },
     "metadata": {},
     "output_type": "display_data"
    }
   ],
   "source": [
    "import matplotlib.pyplot as plt\n",
    "import numpy as np\n",
    "from sklearn.metrics import confusion_matrix\n",
    "\n",
    "# Confusion Matrix 계산\n",
    "cm = confusion_matrix(y_true, y_pred)\n",
    "\n",
    "plt.figure(figsize=(6,6))\n",
    "plt.imshow(cm, interpolation=\"nearest\", cmap=plt.cm.Blues)\n",
    "plt.title(\"Confusion Matrix (Flowers102)\")\n",
    "plt.colorbar()\n",
    "plt.xlabel(\"Predicted label\")\n",
    "plt.ylabel(\"True label\")\n",
    "plt.tight_layout()\n",
    "plt.show()\n"
   ]
  },
  {
   "cell_type": "code",
   "execution_count": 37,
   "id": "57e936b9-cf0e-4fab-9b84-b50e43d45717",
   "metadata": {},
   "outputs": [
    {
     "data": {
      "text/plain": [
       "{'acc': 0.199,\n",
       " 'precision_micro': 0.199,\n",
       " 'recall_micro': 0.199,\n",
       " 'f1_micro': 0.199,\n",
       " 'precision_macro': 0.1589998453341541,\n",
       " 'recall_macro': 0.2026206726273066,\n",
       " 'f1_macro': 0.13345332700162782,\n",
       " 'precision_weighted': 0.21418824481558826,\n",
       " 'recall_weighted': 0.199,\n",
       " 'f1_weighted': 0.14574057147285546,\n",
       " 'top5_acc': 0.462}"
      ]
     },
     "execution_count": 37,
     "metadata": {},
     "output_type": "execute_result"
    }
   ],
   "source": [
    "from sklearn.metrics import accuracy_score, precision_recall_fscore_support, classification_report, confusion_matrix\n",
    "\n",
    "def topk_accuracy(probs, y_true, k=5):\n",
    "    topk = np.argpartition(-probs, k-1, axis=1)[:, :k]\n",
    "    return np.any(topk == y_true[:, None], axis=1).mean()\n",
    "\n",
    "metrics = {}\n",
    "metrics[\"acc\"] = float(accuracy_score(y_true, y_pred))\n",
    "for avg in [\"micro\", \"macro\", \"weighted\"]:\n",
    "    p, r, f1, _ = precision_recall_fscore_support(y_true, y_pred, average=avg, zero_division=0)\n",
    "    metrics[f\"precision_{avg}\"] = float(p)\n",
    "    metrics[f\"recall_{avg}\"]    = float(r)\n",
    "    metrics[f\"f1_{avg}\"]        = float(f1)\n",
    "metrics[\"top5_acc\"] = float(topk_accuracy(probs, y_true, k=5))\n",
    "metrics\n"
   ]
  },
  {
   "cell_type": "code",
   "execution_count": 38,
   "id": "39aabc53-f450-490b-8e62-fd24ee01f486",
   "metadata": {},
   "outputs": [
    {
     "data": {
      "image/png": "[encoded data removed]",
      "text/plain": [
       "<Figure size 800x800 with 2 Axes>"
      ]
     },
     "metadata": {},
     "output_type": "display_data"
    }
   ],
   "source": [
    "import matplotlib.pyplot as plt\n",
    "import numpy as np\n",
    "from sklearn.metrics import confusion_matrix\n",
    "\n",
    "cm = confusion_matrix(y_true, y_pred)\n",
    "fig = plt.figure(figsize=(8,8))\n",
    "plt.imshow(cm, interpolation=\"nearest\")\n",
    "plt.title(\"Confusion Matrix\")\n",
    "plt.xlabel(\"Predicted\")\n",
    "plt.ylabel(\"True\")\n",
    "plt.colorbar()\n",
    "plt.tight_layout()\n",
    "plt.show()\n"
   ]
  },
  {
   "cell_type": "code",
   "execution_count": 40,
   "id": "7b9ec0f6-2777-4b31-a67c-be1c52bed44b",
   "metadata": {},
   "outputs": [
    {
     "name": "stdout",
     "output_type": "stream",
     "text": [
      "Worst 10: [(np.int64(3), np.float64(0.0)), (np.int64(2), np.float64(0.0)), (np.int64(6), np.float64(0.0)), (np.int64(4), np.float64(0.0)), (np.int64(15), np.float64(0.0)), (np.int64(14), np.float64(0.0)), (np.int64(10), np.float64(0.0)), (np.int64(9), np.float64(0.0)), (np.int64(24), np.float64(0.0)), (np.int64(25), np.float64(0.0))]\n",
      "Best  10: [(np.int64(60), np.float64(1.0)), (np.int64(59), np.float64(0.9259259259259259)), (np.int64(57), np.float64(0.90625)), (np.int64(36), np.float64(0.90625)), (np.int64(47), np.float64(0.7894736842105263)), (np.int64(65), np.float64(0.7857142857142857)), (np.int64(32), np.float64(0.7272727272727273)), (np.int64(54), np.float64(0.6923076923076923)), (np.int64(56), np.float64(0.6875)), (np.int64(80), np.float64(0.6857142857142857))]\n"
     ]
    },
    {
     "data": {
      "image/png": "[encoded data removed]",
      "text/plain": [
       "<Figure size 1000x400 with 1 Axes>"
      ]
     },
     "metadata": {},
     "output_type": "display_data"
    }
   ],
   "source": [
    "num_classes = probs.shape[1]\n",
    "per_total   = np.zeros(num_classes, dtype=int)\n",
    "per_correct = np.zeros(num_classes, dtype=int)\n",
    "\n",
    "for t, p in zip(y_true, y_pred):\n",
    "    per_total[t] += 1\n",
    "    if t == p:\n",
    "        per_correct[t] += 1\n",
    "\n",
    "per_acc = np.divide(per_correct, np.maximum(per_total, 1))\n",
    "\n",
    "# 하위 10개 클래스\n",
    "worst_idx = np.argsort(per_acc)[:10]\n",
    "best_idx  = np.argsort(-per_acc)[:10]\n",
    "print(\"Worst 10:\", list(zip(worst_idx, per_acc[worst_idx])))\n",
    "print(\"Best  10:\", list(zip(best_idx, per_acc[best_idx])))\n",
    "\n",
    "import matplotlib.pyplot as plt\n",
    "plt.figure(figsize=(10,4))\n",
    "plt.bar(range(len(per_acc)), per_acc)\n",
    "plt.title(\"Per-class Accuracy\")\n",
    "plt.xlabel(\"Class index\")\n",
    "plt.ylabel(\"Accuracy\")\n",
    "plt.tight_layout()\n",
    "plt.show()\n"
   ]
  },
  {
   "cell_type": "code",
   "execution_count": 44,
   "id": "cc46097f-e373-494a-b44c-f4769eb9fd19",
   "metadata": {},
   "outputs": [
    {
     "name": "stdout",
     "output_type": "stream",
     "text": [
      "Defaulting to user installation because normal site-packages is not writeable\n",
      "Collecting pandas\n",
      "  Downloading pandas-2.3.2-cp311-cp311-manylinux_2_17_x86_64.manylinux2014_x86_64.whl.metadata (91 kB)\n",
      "Requirement already satisfied: numpy>=1.23.2 in /opt/conda/lib/python3.11/site-packages (from pandas) (2.3.2)\n",
      "Requirement already satisfied: python-dateutil>=2.8.2 in /opt/conda/lib/python3.11/site-packages (from pandas) (2.9.0.post0)\n",
      "Requirement already satisfied: pytz>=2020.1 in /opt/conda/lib/python3.11/site-packages (from pandas) (2025.2)\n",
      "Collecting tzdata>=2022.7 (from pandas)\n",
      "  Downloading tzdata-2025.2-py2.py3-none-any.whl.metadata (1.4 kB)\n",
      "Requirement already satisfied: six>=1.5 in /opt/conda/lib/python3.11/site-packages (from python-dateutil>=2.8.2->pandas) (1.17.0)\n",
      "Downloading pandas-2.3.2-cp311-cp311-manylinux_2_17_x86_64.manylinux2014_x86_64.whl (12.4 MB)\n",
      "\u001b[2K   \u001b[90m━━━━━━━━━━━━━━━━━━━━━━━━━━━━━━━━━━━━━━━━\u001b[0m \u001b[32m12.4/12.4 MB\u001b[0m \u001b[31m2.1 MB/s\u001b[0m  \u001b[33m0:00:05\u001b[0m eta \u001b[36m0:00:01\u001b[0m\n",
      "\u001b[?25hDownloading tzdata-2025.2-py2.py3-none-any.whl (347 kB)\n",
      "Installing collected packages: tzdata, pandas\n",
      "\u001b[2K   \u001b[90m━━━━━━━━━━━━━━━━━━━━━━━━━━━━━━━━━━━━━━━━\u001b[0m \u001b[32m2/2\u001b[0m [pandas]2m1/2\u001b[0m [pandas]\n",
      "\u001b[1A\u001b[2KSuccessfully installed pandas-2.3.2 tzdata-2025.2\n"
     ]
    }
   ],
   "source": [
    "import sys\n",
    "!{sys.executable} -m pip install pandas"
   ]
  },
  {
   "cell_type": "code",
   "execution_count": 46,
   "id": "8a33b081-c751-44ac-b21b-45da878be4e2",
   "metadata": {},
   "outputs": [
    {
     "name": "stdout",
     "output_type": "stream",
     "text": [
      "      Metric     Score\n",
      "0   Accuracy  0.199000\n",
      "1  Precision  0.214188\n",
      "2     Recall  0.199000\n",
      "3   F1-score  0.145741\n"
     ]
    },
    {
     "data": {
      "text/html": [
       "<div>\n",
       "<style scoped>\n",
       "    .dataframe tbody tr th:only-of-type {\n",
       "        vertical-align: middle;\n",
       "    }\n",
       "\n",
       "    .dataframe tbody tr th {\n",
       "        vertical-align: top;\n",
       "    }\n",
       "\n",
       "    .dataframe thead th {\n",
       "        text-align: right;\n",
       "    }\n",
       "</style>\n",
       "<table border=\"1\" class=\"dataframe\">\n",
       "  <thead>\n",
       "    <tr style=\"text-align: right;\">\n",
       "      <th></th>\n",
       "      <th>Metric</th>\n",
       "      <th>Score</th>\n",
       "    </tr>\n",
       "  </thead>\n",
       "  <tbody>\n",
       "    <tr>\n",
       "      <th>0</th>\n",
       "      <td>Accuracy</td>\n",
       "      <td>0.199000</td>\n",
       "    </tr>\n",
       "    <tr>\n",
       "      <th>1</th>\n",
       "      <td>Precision</td>\n",
       "      <td>0.214188</td>\n",
       "    </tr>\n",
       "    <tr>\n",
       "      <th>2</th>\n",
       "      <td>Recall</td>\n",
       "      <td>0.199000</td>\n",
       "    </tr>\n",
       "    <tr>\n",
       "      <th>3</th>\n",
       "      <td>F1-score</td>\n",
       "      <td>0.145741</td>\n",
       "    </tr>\n",
       "  </tbody>\n",
       "</table>\n",
       "</div>"
      ],
      "text/plain": [
       "      Metric     Score\n",
       "0   Accuracy  0.199000\n",
       "1  Precision  0.214188\n",
       "2     Recall  0.199000\n",
       "3   F1-score  0.145741"
      ]
     },
     "execution_count": 46,
     "metadata": {},
     "output_type": "execute_result"
    }
   ],
   "source": [
    "import pandas as pd\n",
    "from sklearn.metrics import accuracy_score, precision_score, recall_score, f1_score\n",
    "\n",
    "acc = accuracy_score(y_true, y_pred)\n",
    "precision = precision_score(y_true, y_pred, average='weighted', zero_division=0)\n",
    "recall = recall_score(y_true, y_pred, average='weighted', zero_division=0)\n",
    "f1 = f1_score(y_true, y_pred, average='weighted', zero_division=0)\n",
    "\n",
    "df_metrics = pd.DataFrame({\n",
    "    \"Metric\": [\"Accuracy\", \"Precision\", \"Recall\", \"F1-score\"],\n",
    "    \"Score\": [acc, precision, recall, f1]\n",
    "})\n",
    "\n",
    "print(df_metrics)\n",
    "df_metrics\n"
   ]
  },
  {
   "cell_type": "code",
   "execution_count": null,
   "id": "a5f020c6-fd72-4a77-af82-24853f9fa803",
   "metadata": {},
   "outputs": [],
   "source": []
  }
 ],
 "metadata": {
  "kernelspec": {
   "display_name": "Python 3 (ipykernel)",
   "language": "python",
   "name": "python3"
  },
  "language_info": {
   "codemirror_mode": {
    "name": "ipython",
    "version": 3
   },
   "file_extension": ".py",
   "mimetype": "text/x-python",
   "name": "python",
   "nbconvert_exporter": "python",
   "pygments_lexer": "ipython3",
   "version": "3.11.13"
  }
 },
 "nbformat": 4,
 "nbformat_minor": 5
}
