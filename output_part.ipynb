{
 "cells": [
  {
   "cell_type": "code",
   "execution_count": null,
   "id": "2d11383a-8d2e-4cc9-bc60-51c20c44968f",
   "metadata": {},
   "outputs": [],
   "source": [
    "class MLPHead(nn.Module):\n",
    "    def __init__(self, in_dim, hid_dim, num_classes, drop=0.0, use_ln=True):\n",
    "        super().__init__()\n",
    "        self.pre = nn.LayerNorm(in_dim) if use_ln else nn.Identity()\n",
    "        self.fc1 = nn.Linear(in_dim, hid_dim)\n",
    "        self.act = nn.Tanh()            # 논문에서 종종 쓰던 Tanh representation\n",
    "        self.drop = nn.Dropout(drop)\n",
    "        self.fc2 = nn.Linear(hid_dim, num_classes)\n",
    "\n",
    "    def forward(self, x):                # x: [CLS] (B, D)\n",
    "        x = self.pre(x)\n",
    "        x = self.fc1(x)\n",
    "        x = self.act(x)\n",
    "        x = self.drop(x)\n",
    "        x = self.fc2(x)\n",
    "        return x\n",
    "\n",
    "class ViTClassifier(nn.Module):\n",
    "    def __init__(self, img_size=224, patch_size=16, in_chans=3,\n",
    "                 embed_dim=768, depth=12, num_heads=12, mlp_ratio=4.0,\n",
    "                 num_classes=1000, attn_drop=0.0, drop=0.0, mlp_dim=3072):\n",
    "        super().__init__()\n",
    "        self.patch_embed = PatchEmbed(img_size, patch_size, in_chans, embed_dim)\n",
    "        self.encoder     = encoder(embed_dim, depth, num_heads, mlp_dim)\n",
    "        self.head = MLPHead(in_dim=embed_dim, hid_dim=embed_dim, num_classes=num_classes, drop=0.1)\n",
    "\n",
    "        # 간단 초기화\n",
    "        nn.init.trunc_normal_(self.head.weight, std=0.02)\n",
    "        nn.init.zeros_(self.head.bias)\n",
    "\n",
    "    def forward(self, x):                          # x: (B,3,H,W)  ex) (B,3,224,224)\n",
    "        tokens = self.patch_embed(x)               # (B, N+1, D)\n",
    "        cls = self.encoder(tokens)             # [CLS]만\n",
    "        #cls = enc_out[:, 0]                        # [CLS]만\n",
    "        logits = self.head(cls)                    # (B, num_classes)\n",
    "        return logits"
   ]
  }
 ],
 "metadata": {
  "kernelspec": {
   "display_name": "Python 3 (ipykernel)",
   "language": "python",
   "name": "python3"
  },
  "language_info": {
   "codemirror_mode": {
    "name": "ipython",
    "version": 3
   },
   "file_extension": ".py",
   "mimetype": "text/x-python",
   "name": "python",
   "nbconvert_exporter": "python",
   "pygments_lexer": "ipython3",
   "version": "3.13.5"
  }
 },
 "nbformat": 4,
 "nbformat_minor": 5
}
